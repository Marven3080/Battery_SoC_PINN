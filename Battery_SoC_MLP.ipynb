{
 "cells": [
  {
   "cell_type": "markdown",
   "id": "f5f38950-d5c8-4390-a7e4-fa0955780805",
   "metadata": {},
   "source": [
    "# Battery_SoC_MLP"
   ]
  },
  {
   "cell_type": "code",
   "execution_count": 1,
   "id": "15a50f9c-78c7-4493-9562-0059061ca0b8",
   "metadata": {},
   "outputs": [
    {
     "name": "stderr",
     "output_type": "stream",
     "text": [
      "C:\\Users\\Marven\\AppData\\Roaming\\Python\\Python310\\site-packages\\scipy\\__init__.py:169: UserWarning: A NumPy version >=1.18.5 and <1.26.0 is required for this version of SciPy (detected version 1.26.4\n",
      "  warnings.warn(f\"A NumPy version >={np_minversion} and <{np_maxversion}\"\n"
     ]
    }
   ],
   "source": [
    "import pandas as pd\n",
    "import os\n",
    "from sklearn.preprocessing import StandardScaler\n",
    "from sklearn.model_selection import train_test_split\n",
    "import torch\n",
    "import torch.nn as nn\n",
    "import torch.optim as optim\n",
    "from torch.utils.data import DataLoader, TensorDataset\n",
    "import matplotlib.pyplot as plt\n",
    "from torch.optim.lr_scheduler import StepLR"
   ]
  },
  {
   "cell_type": "markdown",
   "id": "1d654495-e794-4ddf-8bd5-c15c865c55dd",
   "metadata": {},
   "source": [
    "## Load and clean the datasets"
   ]
  },
  {
   "cell_type": "code",
   "execution_count": 18,
   "id": "ae2b306a-a451-4c1c-96c6-124cb3eae077",
   "metadata": {},
   "outputs": [],
   "source": [
    "data_file = \"./TripB14.csv\""
   ]
  },
  {
   "cell_type": "code",
   "execution_count": 19,
   "id": "5d2e32ff-d63f-4989-8b49-b272bbee8164",
   "metadata": {},
   "outputs": [],
   "source": [
    "data = pd.read_csv(data_file, encoding=\"ISO-8859-1\", sep=\";\")"
   ]
  },
  {
   "cell_type": "code",
   "execution_count": 20,
   "id": "eadb3b12-8ab1-4abd-8a27-48c092ff7289",
   "metadata": {},
   "outputs": [],
   "source": [
    "def get_soc_using_coulomb_counting_method(df, battery_voltage, battery_usable_capacity_kWh):\n",
    "    \n",
    "    estimated_soc = []\n",
    "    \n",
    "    SOC_0 = df[\"SoC [%]\"][0]  # Initial State of Charge in %\n",
    "    \n",
    "    # Convert capacity to Ampere-seconds (As) using battery voltage\n",
    "    Q_rated = (battery_usable_capacity_kWh * 1000) / battery_voltage * 3600   # Convert kWh to As\n",
    "    \n",
    "    # Time difference between samples\n",
    "    time_difference = df['Time [s]'].diff().fillna(0)  # First diff is NaN, set to 0\n",
    "    \n",
    "    # Coulomb Counting Method to estimate SOC\n",
    "    estimated_soc = SOC_0 + (df['Battery Current [A]'] * time_difference).cumsum() / Q_rated * 100\n",
    "    \n",
    "    return estimated_soc"
   ]
  },
  {
   "cell_type": "code",
   "execution_count": 21,
   "id": "7ba392cc-ccae-46e2-a9f6-cf0552f381af",
   "metadata": {},
   "outputs": [],
   "source": [
    "# Estimate SoC using Coulomb counting method on all dataframes\n",
    "\n",
    "data[\"Estimated SoC (Coulomb counting method)\"] = get_soc_using_coulomb_counting_method(df=data, battery_voltage=360, battery_usable_capacity_kWh=18.8)"
   ]
  },
  {
   "cell_type": "code",
   "execution_count": 22,
   "id": "e0ec71d6-7d57-4589-a96e-8bd2f26270cb",
   "metadata": {},
   "outputs": [],
   "source": [
    "# Difference between SoC and Estimated SoC\n",
    "\n",
    "data[\"Delta\"] = data[\"SoC [%]\"] - data[\"Estimated SoC (Coulomb counting method)\"]"
   ]
  },
  {
   "cell_type": "code",
   "execution_count": 23,
   "id": "0cd8bfbe-739e-4d77-9f38-79367a7434ef",
   "metadata": {},
   "outputs": [],
   "source": [
    "key_features = [\"Velocity [km/h]\", \"Battery Voltage [V]\", \"Battery Current [A]\", \"Battery Temperature [°C]\"]"
   ]
  },
  {
   "cell_type": "code",
   "execution_count": 24,
   "id": "faf24ca6-fe32-413f-9aec-8ba0316025c8",
   "metadata": {},
   "outputs": [],
   "source": [
    "# Extract features and target variable\n",
    "X = data[key_features]  # Features \n",
    "y = data[\"Delta\"]   # Target (Difference between SoC and Estimated SoC)\n",
    "\n",
    "X_train, X_temp, y_train, y_temp = train_test_split(X, y, test_size=0.3, shuffle=False)\n",
    "X_validation, X_test, y_validation, y_test = train_test_split(X_temp, y_temp, test_size=0.33, shuffle=False)"
   ]
  },
  {
   "cell_type": "markdown",
   "id": "d8a74b42-7c98-4905-8c1b-92a7710b0f8e",
   "metadata": {},
   "source": [
    "## Convert Data to PyTorch form"
   ]
  },
  {
   "cell_type": "code",
   "execution_count": 25,
   "id": "8e87a3a9-6cb8-4034-96ba-ae395cc77df7",
   "metadata": {},
   "outputs": [],
   "source": [
    "scaler = StandardScaler()\n",
    "X_train_scaled = scaler.fit_transform(X_train)\n",
    "X_validation_scaled = scaler.transform(X_validation)\n",
    "X_test_scaled = scaler.transform(X_test)\n",
    "\n",
    "# Convert to PyTorch tensors\n",
    "X_train_tensor = torch.tensor(X_train_scaled, dtype=torch.float32)\n",
    "y_train_tensor = torch.tensor(y_train.values, dtype=torch.float32).view(-1, 1)\n",
    "\n",
    "X_validation_tensor = torch.tensor(X_validation_scaled, dtype=torch.float32)\n",
    "y_validation_tensor = torch.tensor(y_validation.values, dtype=torch.float32).view(-1, 1)\n",
    "\n",
    "X_test_tensor = torch.tensor(X_test_scaled, dtype=torch.float32)\n",
    "y_test_tensor = torch.tensor(y_test.values, dtype=torch.float32).view(-1, 1)"
   ]
  },
  {
   "cell_type": "code",
   "execution_count": 26,
   "id": "e127675a-dd06-4a3a-a6d2-e2f8597e4fe5",
   "metadata": {},
   "outputs": [],
   "source": [
    "# Create the Data loader\n",
    "batch_size = 32\n",
    "train_dataset = TensorDataset(X_train_tensor, y_train_tensor)\n",
    "validation_dataset = TensorDataset(X_validation_tensor, y_validation_tensor)\n",
    "test_dataset = TensorDataset(X_test_tensor, y_test_tensor)\n",
    "\n",
    "train_loader = DataLoader(train_dataset, batch_size=batch_size, shuffle=True)\n",
    "validation_loader = DataLoader(validation_dataset, batch_size=batch_size, shuffle=False)\n",
    "test_loader = DataLoader(test_dataset, batch_size=batch_size, shuffle=False)"
   ]
  },
  {
   "cell_type": "markdown",
   "id": "a30447d5-68ff-4c82-bec6-4ace2826c050",
   "metadata": {},
   "source": [
    "## Define the MLP model"
   ]
  },
  {
   "cell_type": "code",
   "execution_count": 27,
   "id": "5360b728-00c5-43bf-8428-6c5d8a4d1413",
   "metadata": {},
   "outputs": [],
   "source": [
    "class MLP(nn.Module):\n",
    "    \n",
    "    def __init__(self, input_dim, hidden_dim, output_dim, num_layers, activation=nn.ReLU):\n",
    "        \n",
    "        super(MLP, self).__init__()\n",
    "        layers = [nn.Linear(input_dim, hidden_dim), activation()]\n",
    "        \n",
    "        for _ in range(num_layers):\n",
    "            layers.append(nn.Linear(hidden_dim, hidden_dim))\n",
    "            layers.append(activation())\n",
    "            layers.append(nn.Dropout(0.2))  # Dropout to prevent overfitting\n",
    "        \n",
    "        layers.append(nn.Linear(hidden_dim, output_dim))  # Output layer\n",
    "        self.model = nn.Sequential(*layers)\n",
    "        \n",
    "    def forward(self, x):\n",
    "        return self.model(x)\n",
    "        "
   ]
  },
  {
   "cell_type": "code",
   "execution_count": 28,
   "id": "d64e76dc-b110-4448-8476-b50be4f7bbbc",
   "metadata": {},
   "outputs": [],
   "source": [
    "# Initialize model\n",
    "input_dim = X_train.shape[1]  # Number of features\n",
    "hidden_dim = 64  # Number of neurons in hidden layers\n",
    "output_dim = 1  # Single output (critical temperature)\n",
    "num_layers = 4  # Number of hidden layers\n",
    "\n",
    "model = MLP(input_dim, hidden_dim, output_dim, num_layers)"
   ]
  },
  {
   "cell_type": "markdown",
   "id": "968b81e0-900c-4985-8f8e-e4aa32651c85",
   "metadata": {},
   "source": [
    "## Loss Function"
   ]
  },
  {
   "cell_type": "code",
   "execution_count": 29,
   "id": "d7f27b1b-6656-4dd3-8bbc-37bf66cb6ba2",
   "metadata": {},
   "outputs": [],
   "source": [
    "def rmse_loss(y_true, y_pred):\n",
    "    \n",
    "    mse_loss = nn.functional.mse_loss(y_pred, y_true) \n",
    "    \n",
    "    return torch.sqrt(mse_loss + 1e-8) "
   ]
  },
  {
   "cell_type": "code",
   "execution_count": 30,
   "id": "fe4b2795-a63c-4107-9e1a-7d947acfce49",
   "metadata": {},
   "outputs": [],
   "source": [
    "def mae_loss(y_true, y_pred):\n",
    "    return torch.mean(torch.abs(y_true - y_pred))\n"
   ]
  },
  {
   "cell_type": "markdown",
   "id": "62fe948b-8ff5-4d73-a17d-3527545d467c",
   "metadata": {},
   "source": [
    "## Model Training"
   ]
  },
  {
   "cell_type": "code",
   "execution_count": 31,
   "id": "67bcc682-c8d0-4cdd-bc77-b12607e2ce58",
   "metadata": {},
   "outputs": [
    {
     "data": {
      "text/plain": [
       "MLP(\n",
       "  (model): Sequential(\n",
       "    (0): Linear(in_features=4, out_features=64, bias=True)\n",
       "    (1): ReLU()\n",
       "    (2): Linear(in_features=64, out_features=64, bias=True)\n",
       "    (3): ReLU()\n",
       "    (4): Dropout(p=0.2, inplace=False)\n",
       "    (5): Linear(in_features=64, out_features=64, bias=True)\n",
       "    (6): ReLU()\n",
       "    (7): Dropout(p=0.2, inplace=False)\n",
       "    (8): Linear(in_features=64, out_features=64, bias=True)\n",
       "    (9): ReLU()\n",
       "    (10): Dropout(p=0.2, inplace=False)\n",
       "    (11): Linear(in_features=64, out_features=64, bias=True)\n",
       "    (12): ReLU()\n",
       "    (13): Dropout(p=0.2, inplace=False)\n",
       "    (14): Linear(in_features=64, out_features=1, bias=True)\n",
       "  )\n",
       ")"
      ]
     },
     "execution_count": 31,
     "metadata": {},
     "output_type": "execute_result"
    }
   ],
   "source": [
    "# Move the Model to GPU\n",
    "device = torch.device(\"cuda\" if torch.cuda.is_available() else \"cpu\")\n",
    "model.to(device)"
   ]
  },
  {
   "cell_type": "code",
   "execution_count": 32,
   "id": "43b3247c-1e1b-4e6a-a863-5e31d0590561",
   "metadata": {},
   "outputs": [],
   "source": [
    "# Optimizer\n",
    "optimizer = torch.optim.Adam(model.parameters(), lr=0.1, weight_decay=1e-5) #initial learning rate = 0.01\n",
    "scheduler = StepLR(optimizer, step_size=10, gamma=0.1) # epoch % 10 == 0, lr * 0.1"
   ]
  },
  {
   "cell_type": "code",
   "execution_count": 33,
   "id": "2c83a2b6-72f0-44ca-a178-405bea528079",
   "metadata": {},
   "outputs": [
    {
     "name": "stdout",
     "output_type": "stream",
     "text": [
      "Epoch [1/100], Train RMSE: 1.7599| Train MAE: 1.4392| Val RMSE: 3.9384| Val MAE: 3.9384| Current Learning Rate: 0.10000000\n",
      "Epoch [2/100], Train RMSE: 1.9889| Train MAE: 1.7145| Val RMSE: 5.0122| Val MAE: 5.0121| Current Learning Rate: 0.10000000\n",
      "Epoch [3/100], Train RMSE: 2.4224| Train MAE: 2.0533| Val RMSE: 5.1712| Val MAE: 5.1711| Current Learning Rate: 0.10000000\n",
      "Epoch [4/100], Train RMSE: 2.2153| Train MAE: 1.9565| Val RMSE: 5.1280| Val MAE: 5.1280| Current Learning Rate: 0.10000000\n",
      "Epoch [5/100], Train RMSE: 2.2010| Train MAE: 1.9493| Val RMSE: 5.3237| Val MAE: 5.3237| Current Learning Rate: 0.10000000\n",
      "Epoch [6/100], Train RMSE: 2.2033| Train MAE: 1.9516| Val RMSE: 5.1867| Val MAE: 5.1866| Current Learning Rate: 0.10000000\n",
      "Epoch [7/100], Train RMSE: 2.2176| Train MAE: 1.9547| Val RMSE: 5.1075| Val MAE: 5.1074| Current Learning Rate: 0.10000000\n",
      "Epoch [8/100], Train RMSE: 2.3231| Train MAE: 2.0208| Val RMSE: 4.8539| Val MAE: 4.8538| Current Learning Rate: 0.10000000\n",
      "Epoch [9/100], Train RMSE: 2.2079| Train MAE: 1.9537| Val RMSE: 5.0770| Val MAE: 5.0769| Current Learning Rate: 0.10000000\n",
      "Epoch [10/100], Train RMSE: 2.5536| Train MAE: 2.0882| Val RMSE: 5.0416| Val MAE: 5.0415| Current Learning Rate: 0.01000000\n",
      "Epoch [11/100], Train RMSE: 2.1974| Train MAE: 1.9481| Val RMSE: 5.0239| Val MAE: 5.0239| Current Learning Rate: 0.01000000\n",
      "Epoch [12/100], Train RMSE: 2.1974| Train MAE: 1.9482| Val RMSE: 5.0817| Val MAE: 5.0817| Current Learning Rate: 0.01000000\n",
      "Epoch [13/100], Train RMSE: 2.1993| Train MAE: 1.9501| Val RMSE: 5.0768| Val MAE: 5.0767| Current Learning Rate: 0.01000000\n",
      "Epoch [14/100], Train RMSE: 2.1975| Train MAE: 1.9476| Val RMSE: 5.0809| Val MAE: 5.0809| Current Learning Rate: 0.01000000\n",
      "Epoch [15/100], Train RMSE: 2.1979| Train MAE: 1.9486| Val RMSE: 5.0865| Val MAE: 5.0864| Current Learning Rate: 0.01000000\n",
      "Epoch [16/100], Train RMSE: 2.1983| Train MAE: 1.9488| Val RMSE: 5.0766| Val MAE: 5.0766| Current Learning Rate: 0.01000000\n",
      "Epoch [17/100], Train RMSE: 2.1976| Train MAE: 1.9480| Val RMSE: 5.1088| Val MAE: 5.1087| Current Learning Rate: 0.01000000\n",
      "Epoch [18/100], Train RMSE: 2.1973| Train MAE: 1.9478| Val RMSE: 5.0973| Val MAE: 5.0973| Current Learning Rate: 0.01000000\n",
      "Epoch [19/100], Train RMSE: 2.1970| Train MAE: 1.9484| Val RMSE: 5.1149| Val MAE: 5.1149| Current Learning Rate: 0.01000000\n",
      "Epoch [20/100], Train RMSE: 2.1976| Train MAE: 1.9482| Val RMSE: 5.1494| Val MAE: 5.1493| Current Learning Rate: 0.00100000\n",
      "Epoch [21/100], Train RMSE: 2.1990| Train MAE: 1.9486| Val RMSE: 5.0888| Val MAE: 5.0888| Current Learning Rate: 0.00100000\n",
      "Epoch [22/100], Train RMSE: 2.1967| Train MAE: 1.9473| Val RMSE: 5.0839| Val MAE: 5.0839| Current Learning Rate: 0.00100000\n",
      "Epoch [23/100], Train RMSE: 2.1964| Train MAE: 1.9474| Val RMSE: 5.0842| Val MAE: 5.0842| Current Learning Rate: 0.00100000\n",
      "Epoch [24/100], Train RMSE: 2.1957| Train MAE: 1.9468| Val RMSE: 5.0883| Val MAE: 5.0883| Current Learning Rate: 0.00100000\n",
      "Epoch [25/100], Train RMSE: 2.1973| Train MAE: 1.9492| Val RMSE: 5.0820| Val MAE: 5.0819| Current Learning Rate: 0.00100000\n",
      "Epoch [26/100], Train RMSE: 2.1985| Train MAE: 1.9496| Val RMSE: 5.0730| Val MAE: 5.0729| Current Learning Rate: 0.00100000\n",
      "Epoch [27/100], Train RMSE: 2.1988| Train MAE: 1.9501| Val RMSE: 5.0835| Val MAE: 5.0834| Current Learning Rate: 0.00100000\n",
      "Epoch [28/100], Train RMSE: 2.1970| Train MAE: 1.9479| Val RMSE: 5.0790| Val MAE: 5.0790| Current Learning Rate: 0.00100000\n",
      "Epoch [29/100], Train RMSE: 1.3618| Train MAE: 1.1587| Val RMSE: 1.6275| Val MAE: 1.6268| Current Learning Rate: 0.00100000\n",
      "Epoch [30/100], Train RMSE: 0.5836| Train MAE: 0.4511| Val RMSE: 1.6702| Val MAE: 1.6695| Current Learning Rate: 0.00010000\n",
      "Epoch [31/100], Train RMSE: 0.5438| Train MAE: 0.4215| Val RMSE: 1.6661| Val MAE: 1.6656| Current Learning Rate: 0.00010000\n",
      "Epoch [32/100], Train RMSE: 0.5359| Train MAE: 0.4158| Val RMSE: 1.6243| Val MAE: 1.6238| Current Learning Rate: 0.00010000\n",
      "Epoch [33/100], Train RMSE: 0.5310| Train MAE: 0.4120| Val RMSE: 1.6930| Val MAE: 1.6925| Current Learning Rate: 0.00010000\n",
      "Epoch [34/100], Train RMSE: 0.5244| Train MAE: 0.4070| Val RMSE: 1.7282| Val MAE: 1.7278| Current Learning Rate: 0.00010000\n",
      "Epoch [35/100], Train RMSE: 0.5190| Train MAE: 0.4003| Val RMSE: 1.6866| Val MAE: 1.6862| Current Learning Rate: 0.00010000\n",
      "Epoch [36/100], Train RMSE: 0.5136| Train MAE: 0.3984| Val RMSE: 1.6408| Val MAE: 1.6403| Current Learning Rate: 0.00010000\n",
      "Epoch [37/100], Train RMSE: 0.5101| Train MAE: 0.3945| Val RMSE: 1.6227| Val MAE: 1.6222| Current Learning Rate: 0.00010000\n",
      "Epoch [38/100], Train RMSE: 0.5100| Train MAE: 0.3939| Val RMSE: 1.6674| Val MAE: 1.6669| Current Learning Rate: 0.00010000\n",
      "Epoch [39/100], Train RMSE: 0.5075| Train MAE: 0.3936| Val RMSE: 1.6480| Val MAE: 1.6475| Current Learning Rate: 0.00010000\n",
      "Epoch [40/100], Train RMSE: 0.4961| Train MAE: 0.3844| Val RMSE: 1.7128| Val MAE: 1.7124| Current Learning Rate: 0.00001000\n",
      "Epoch [41/100], Train RMSE: 0.5035| Train MAE: 0.3874| Val RMSE: 1.6061| Val MAE: 1.6056| Current Learning Rate: 0.00001000\n",
      "Epoch [42/100], Train RMSE: 0.5006| Train MAE: 0.3870| Val RMSE: 1.5805| Val MAE: 1.5800| Current Learning Rate: 0.00001000\n",
      "Epoch [43/100], Train RMSE: 0.5010| Train MAE: 0.3865| Val RMSE: 1.6092| Val MAE: 1.6087| Current Learning Rate: 0.00001000\n",
      "Epoch [44/100], Train RMSE: 0.4991| Train MAE: 0.3843| Val RMSE: 1.6165| Val MAE: 1.6160| Current Learning Rate: 0.00001000\n",
      "Epoch [45/100], Train RMSE: 0.4974| Train MAE: 0.3849| Val RMSE: 1.6004| Val MAE: 1.5999| Current Learning Rate: 0.00001000\n",
      "Epoch [46/100], Train RMSE: 0.5013| Train MAE: 0.3870| Val RMSE: 1.6136| Val MAE: 1.6131| Current Learning Rate: 0.00001000\n",
      "Epoch [47/100], Train RMSE: 0.4952| Train MAE: 0.3832| Val RMSE: 1.6030| Val MAE: 1.6025| Current Learning Rate: 0.00001000\n",
      "Epoch [48/100], Train RMSE: 0.4961| Train MAE: 0.3836| Val RMSE: 1.6134| Val MAE: 1.6130| Current Learning Rate: 0.00001000\n",
      "Epoch [49/100], Train RMSE: 0.5016| Train MAE: 0.3883| Val RMSE: 1.5981| Val MAE: 1.5976| Current Learning Rate: 0.00001000\n",
      "Epoch [50/100], Train RMSE: 0.4975| Train MAE: 0.3841| Val RMSE: 1.6117| Val MAE: 1.6112| Current Learning Rate: 0.00000100\n",
      "Epoch [51/100], Train RMSE: 0.4919| Train MAE: 0.3810| Val RMSE: 1.6053| Val MAE: 1.6048| Current Learning Rate: 0.00000100\n",
      "Epoch [52/100], Train RMSE: 0.4993| Train MAE: 0.3863| Val RMSE: 1.6077| Val MAE: 1.6073| Current Learning Rate: 0.00000100\n",
      "Epoch [53/100], Train RMSE: 0.4970| Train MAE: 0.3836| Val RMSE: 1.6099| Val MAE: 1.6094| Current Learning Rate: 0.00000100\n",
      "Epoch [54/100], Train RMSE: 0.4970| Train MAE: 0.3837| Val RMSE: 1.6067| Val MAE: 1.6062| Current Learning Rate: 0.00000100\n",
      "Epoch [55/100], Train RMSE: 0.5009| Train MAE: 0.3873| Val RMSE: 1.6060| Val MAE: 1.6055| Current Learning Rate: 0.00000100\n",
      "Epoch [56/100], Train RMSE: 0.4930| Train MAE: 0.3820| Val RMSE: 1.6062| Val MAE: 1.6057| Current Learning Rate: 0.00000100\n",
      "Epoch [57/100], Train RMSE: 0.4979| Train MAE: 0.3843| Val RMSE: 1.6074| Val MAE: 1.6069| Current Learning Rate: 0.00000100\n",
      "Epoch [58/100], Train RMSE: 0.4973| Train MAE: 0.3837| Val RMSE: 1.6080| Val MAE: 1.6075| Current Learning Rate: 0.00000100\n",
      "Epoch [59/100], Train RMSE: 0.4954| Train MAE: 0.3825| Val RMSE: 1.5988| Val MAE: 1.5983| Current Learning Rate: 0.00000100\n",
      "Epoch [60/100], Train RMSE: 0.4984| Train MAE: 0.3866| Val RMSE: 1.6071| Val MAE: 1.6066| Current Learning Rate: 0.00000010\n",
      "Epoch [61/100], Train RMSE: 0.4946| Train MAE: 0.3825| Val RMSE: 1.6067| Val MAE: 1.6062| Current Learning Rate: 0.00000010\n",
      "Epoch [62/100], Train RMSE: 0.4966| Train MAE: 0.3840| Val RMSE: 1.6067| Val MAE: 1.6062| Current Learning Rate: 0.00000010\n",
      "Epoch [63/100], Train RMSE: 0.4978| Train MAE: 0.3838| Val RMSE: 1.6066| Val MAE: 1.6061| Current Learning Rate: 0.00000010\n",
      "Epoch [64/100], Train RMSE: 0.4990| Train MAE: 0.3860| Val RMSE: 1.6060| Val MAE: 1.6055| Current Learning Rate: 0.00000010\n",
      "Epoch [65/100], Train RMSE: 0.4959| Train MAE: 0.3833| Val RMSE: 1.6059| Val MAE: 1.6054| Current Learning Rate: 0.00000010\n",
      "Epoch [66/100], Train RMSE: 0.4972| Train MAE: 0.3834| Val RMSE: 1.6058| Val MAE: 1.6053| Current Learning Rate: 0.00000010\n",
      "Epoch [67/100], Train RMSE: 0.4950| Train MAE: 0.3845| Val RMSE: 1.6055| Val MAE: 1.6050| Current Learning Rate: 0.00000010\n",
      "Epoch [68/100], Train RMSE: 0.4946| Train MAE: 0.3829| Val RMSE: 1.6053| Val MAE: 1.6048| Current Learning Rate: 0.00000010\n",
      "Epoch [69/100], Train RMSE: 0.4963| Train MAE: 0.3834| Val RMSE: 1.6051| Val MAE: 1.6046| Current Learning Rate: 0.00000010\n",
      "Epoch [70/100], Train RMSE: 0.4964| Train MAE: 0.3831| Val RMSE: 1.6051| Val MAE: 1.6046| Current Learning Rate: 0.00000001\n",
      "Epoch [71/100], Train RMSE: 0.4963| Train MAE: 0.3829| Val RMSE: 1.6052| Val MAE: 1.6047| Current Learning Rate: 0.00000001\n",
      "Epoch [72/100], Train RMSE: 0.5010| Train MAE: 0.3877| Val RMSE: 1.6052| Val MAE: 1.6047| Current Learning Rate: 0.00000001\n",
      "Early stopping triggered\n"
     ]
    }
   ],
   "source": [
    "# Training loop\n",
    "num_epochs = 100\n",
    "best_val_loss = 1000\n",
    "early_stop_counter = 0  \n",
    "patience = 30\n",
    "\n",
    "train_rmse_losses = []\n",
    "train_mae_losses = []\n",
    "val_rmse_losses = []\n",
    "val_mae_losses = []\n",
    "\n",
    "for epoch in range(num_epochs):\n",
    "    # Training\n",
    "    model.train()\n",
    "    train_rmse = 0.0\n",
    "    train_mae = 0.0\n",
    "    for batch_X, batch_y in train_loader:\n",
    "        predictions = model(batch_X)\n",
    "        rmse = rmse_loss(predictions, batch_y)\n",
    "        mae = mae_loss(predictions, batch_y)\n",
    "        \n",
    "        optimizer.zero_grad()\n",
    "        rmse.backward()\n",
    "        optimizer.step()\n",
    "\n",
    "        train_rmse += rmse.item()\n",
    "        train_mae += mae.item()\n",
    "\n",
    "    train_rmse /= len(train_loader)\n",
    "    train_mae /= len(train_loader)\n",
    "    train_rmse_losses.append(train_rmse)\n",
    "    train_mae_losses.append(train_mae)\n",
    "\n",
    "    # Validation\n",
    "    model.eval()\n",
    "    val_rmse = 0.0\n",
    "    val_mae = 0.0\n",
    "    with torch.no_grad():\n",
    "        for batch_X, batch_y in validation_loader:\n",
    "            val_predictions = model(batch_X)\n",
    "            val_rmse += rmse_loss(val_predictions, batch_y).item()\n",
    "            val_mae += mae_loss(val_predictions, batch_y).item()\n",
    "\n",
    "    val_rmse /= len(validation_loader)\n",
    "    val_mae /= len(validation_loader)\n",
    "    val_rmse_losses.append(val_rmse)\n",
    "    val_mae_losses.append(val_mae)\n",
    "\n",
    "    scheduler.step()\n",
    "    current_lr = optimizer.param_groups[0]['lr']\n",
    "\n",
    "    print(f\"Epoch [{epoch+1}/{num_epochs}], \"\n",
    "          f\"Train RMSE: {train_rmse:.4f}| Train MAE: {train_mae:.4f}| \"\n",
    "          f\"Val RMSE: {val_rmse:.4f}| Val MAE: {val_mae:.4f}| Current Learning Rate: {current_lr:.8f}\")\n",
    "\n",
    "    # Early stopping\n",
    "    if val_rmse < best_val_loss:\n",
    "        best_val_loss = val_rmse\n",
    "        early_stop_counter = 0  \n",
    "        best_model_state = model.state_dict()  \n",
    "    else:\n",
    "        early_stop_counter += 1\n",
    "        if early_stop_counter >= patience:\n",
    "            print(\"Early stopping triggered\")\n",
    "            break\n",
    "            "
   ]
  },
  {
   "cell_type": "code",
   "execution_count": 34,
   "id": "558aad13-84e9-4ad1-90ec-15721a53d50f",
   "metadata": {},
   "outputs": [
    {
     "data": {
      "image/png": "[encoded data removed]",
      "text/plain": [
       "<Figure size 1200x800 with 1 Axes>"
      ]
     },
     "metadata": {},
     "output_type": "display_data"
    }
   ],
   "source": [
    "plt.figure(figsize=(12, 8))\n",
    "plt.plot(train_rmse_losses, label=\"Train RMSE\")\n",
    "plt.plot(val_rmse_losses, label=\"Validation RMSE\")\n",
    "plt.plot(train_mae_losses, label=\"Train MAE\", linestyle=\"--\")\n",
    "plt.plot(val_mae_losses, label=\"Validation MAE\", linestyle=\"--\")\n",
    "plt.title(\"Training and Validation Loss Over Epochs\")\n",
    "plt.xlabel(\"Epochs\")\n",
    "plt.ylabel(\"Loss\")\n",
    "plt.legend()\n",
    "plt.grid(True)\n",
    "plt.show()"
   ]
  },
  {
   "cell_type": "markdown",
   "id": "a8b19519-b3d4-4f15-8c95-116489d2b34d",
   "metadata": {},
   "source": [
    "## Evaluation"
   ]
  },
  {
   "cell_type": "code",
   "execution_count": 35,
   "id": "c536ab72-f5a5-40cb-992c-9b95b9b1c972",
   "metadata": {},
   "outputs": [
    {
     "name": "stdout",
     "output_type": "stream",
     "text": [
      "Test Loss (RMSE): 2.4432\n",
      "Test Loss (MAE): 2.3998\n"
     ]
    }
   ],
   "source": [
    "model.load_state_dict(best_model_state)  \n",
    "model.eval()\n",
    "\n",
    "with torch.no_grad():\n",
    "    test_rmse = 0.0\n",
    "    test_mae = 0.0  \n",
    "    \n",
    "    for batch_X, batch_y in test_loader:\n",
    "        test_predictions = model(batch_X)\n",
    "        test_rmse += rmse_loss(test_predictions, batch_y).item()\n",
    "        test_mae += mae_loss(test_predictions, batch_y).item()  \n",
    "\n",
    "    test_rmse /= len(test_loader)\n",
    "    test_mae /= len(test_loader)\n",
    "\n",
    "    print(f\"Test Loss (RMSE): {test_rmse:.4f}\")\n",
    "    print(f\"Test Loss (MAE): {test_mae:.4f}\")"
   ]
  },
  {
   "cell_type": "code",
   "execution_count": null,
   "id": "c25b1968-6532-4b58-96a7-629dd6bb7874",
   "metadata": {},
   "outputs": [],
   "source": []
  }
 ],
 "metadata": {
  "kernelspec": {
   "display_name": "Python (PINN)",
   "language": "python",
   "name": "pinn"
  },
  "language_info": {
   "codemirror_mode": {
    "name": "ipython",
    "version": 3
   },
   "file_extension": ".py",
   "mimetype": "text/x-python",
   "name": "python",
   "nbconvert_exporter": "python",
   "pygments_lexer": "ipython3",
   "version": "3.10.16"
  }
 },
 "nbformat": 4,
 "nbformat_minor": 5
}
