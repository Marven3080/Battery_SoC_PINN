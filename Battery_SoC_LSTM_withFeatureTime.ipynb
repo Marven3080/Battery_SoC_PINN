{
 "cells": [
  {
   "cell_type": "markdown",
   "id": "f5f38950-d5c8-4390-a7e4-fa0955780805",
   "metadata": {},
   "source": [
    "# Battery_SoC_LSTM_with\"Time\""
   ]
  },
  {
   "cell_type": "code",
   "execution_count": 41,
   "id": "15a50f9c-78c7-4493-9562-0059061ca0b8",
   "metadata": {},
   "outputs": [],
   "source": [
    "import pandas as pd\n",
    "import os\n",
    "from sklearn.preprocessing import StandardScaler\n",
    "from sklearn.preprocessing import MinMaxScaler\n",
    "from sklearn.model_selection import train_test_split\n",
    "import torch\n",
    "import torch.nn as nn\n",
    "import torch.optim as optim\n",
    "from torch.utils.data import DataLoader, Dataset\n",
    "import matplotlib.pyplot as plt\n",
    "from torch.optim.lr_scheduler import StepLR"
   ]
  },
  {
   "cell_type": "markdown",
   "id": "1d654495-e794-4ddf-8bd5-c15c865c55dd",
   "metadata": {},
   "source": [
    "## Load and clean the datasets"
   ]
  },
  {
   "cell_type": "code",
   "execution_count": 152,
   "id": "ae2b306a-a451-4c1c-96c6-124cb3eae077",
   "metadata": {},
   "outputs": [],
   "source": [
    "data_file = \"./TripB14.csv\""
   ]
  },
  {
   "cell_type": "code",
   "execution_count": 153,
   "id": "5d2e32ff-d63f-4989-8b49-b272bbee8164",
   "metadata": {},
   "outputs": [],
   "source": [
    "data = pd.read_csv(data_file, encoding=\"ISO-8859-1\", sep=\";\")"
   ]
  },
  {
   "cell_type": "code",
   "execution_count": 154,
   "id": "eadb3b12-8ab1-4abd-8a27-48c092ff7289",
   "metadata": {},
   "outputs": [],
   "source": [
    "def get_soc_using_coulomb_counting_method(df, battery_voltage, battery_usable_capacity_kWh):\n",
    "    \n",
    "    estimated_soc = []\n",
    "    \n",
    "    SOC_0 = df[\"SoC [%]\"][0]  # Initial State of Charge in %\n",
    "    \n",
    "    # Convert capacity to Ampere-seconds (As) using battery voltage\n",
    "    Q_rated = (battery_usable_capacity_kWh * 1000) / battery_voltage * 3600   # Convert kWh to As\n",
    "    \n",
    "    # Time difference between samples\n",
    "    time_difference = df['Time [s]'].diff().fillna(0)  # First diff is NaN, set to 0\n",
    "    \n",
    "    # Coulomb Counting Method to estimate SOC\n",
    "    estimated_soc = SOC_0 + (df['Battery Current [A]'] * time_difference).cumsum() / Q_rated * 100\n",
    "    \n",
    "    return estimated_soc"
   ]
  },
  {
   "cell_type": "code",
   "execution_count": 155,
   "id": "7ba392cc-ccae-46e2-a9f6-cf0552f381af",
   "metadata": {},
   "outputs": [],
   "source": [
    "# Estimate SoC using Coulomb counting method on all dataframes\n",
    "\n",
    "data[\"Estimated SoC (Coulomb counting method)\"] = get_soc_using_coulomb_counting_method(df=data, battery_voltage=360, battery_usable_capacity_kWh=18.8)"
   ]
  },
  {
   "cell_type": "code",
   "execution_count": 156,
   "id": "e0ec71d6-7d57-4589-a96e-8bd2f26270cb",
   "metadata": {},
   "outputs": [],
   "source": [
    "# Difference between SoC and Estimated SoC\n",
    "\n",
    "data[\"Delta\"] = data[\"SoC [%]\"] - data[\"Estimated SoC (Coulomb counting method)\"]"
   ]
  },
  {
   "cell_type": "code",
   "execution_count": 157,
   "id": "0cd8bfbe-739e-4d77-9f38-79367a7434ef",
   "metadata": {},
   "outputs": [],
   "source": [
    "key_features = [\"Time [s]\", \"Velocity [km/h]\", \"Battery Voltage [V]\", \"Battery Current [A]\", \"Battery Temperature [°C]\"]"
   ]
  },
  {
   "cell_type": "code",
   "execution_count": 158,
   "id": "faf24ca6-fe32-413f-9aec-8ba0316025c8",
   "metadata": {},
   "outputs": [],
   "source": [
    "# Extract features and target variable\n",
    "X = data[key_features]  # Features \n",
    "y = data[\"Delta\"]   # Target (Difference between SoC and Estimated SoC)\n",
    "\n",
    "X_train, X_temp, y_train, y_temp = train_test_split(X, y, test_size=0.3, shuffle=False)\n",
    "X_validation, X_test, y_validation, y_test = train_test_split(X_temp, y_temp, test_size=0.33, shuffle=False)"
   ]
  },
  {
   "cell_type": "markdown",
   "id": "d8a74b42-7c98-4905-8c1b-92a7710b0f8e",
   "metadata": {},
   "source": [
    "## Convert Data to PyTorch form"
   ]
  },
  {
   "cell_type": "code",
   "execution_count": 159,
   "id": "8e87a3a9-6cb8-4034-96ba-ae395cc77df7",
   "metadata": {},
   "outputs": [],
   "source": [
    "scaler = StandardScaler()\n",
    "\n",
    "X_train_scaled = scaler.fit_transform(X_train)\n",
    "X_validation_scaled = scaler.transform(X_validation)\n",
    "X_test_scaled = scaler.transform(X_test)\n"
   ]
  },
  {
   "cell_type": "code",
   "execution_count": 160,
   "id": "b18e7d92-30cf-4782-9462-cd26d96be166",
   "metadata": {},
   "outputs": [],
   "source": [
    "# Convert data into sliding windows\n",
    "\n",
    "class TimeSeriesDataset(Dataset):\n",
    "    def __init__(self, X, y, seq_length=10):\n",
    "  \n",
    "        self.seq_length = seq_length\n",
    "        self.features = X    # shape: (num_samples, 5)\n",
    "        self.targets = y.values       # shape: (num_samples,)\n",
    "        \n",
    "    def __len__(self):\n",
    "        \n",
    "        return len(self.features) - self.seq_length\n",
    "    \n",
    "    def __getitem__(self, idx):\n",
    "        \n",
    "        x_seq = self.features[idx: idx + self.seq_length]  \n",
    "        y_seq = self.targets[idx + self.seq_length - 1]     \n",
    "        return torch.tensor(x_seq, dtype=torch.float32), torch.tensor(y_seq, dtype=torch.float32).unsqueeze(0)\n",
    "\n",
    "\n",
    "        "
   ]
  },
  {
   "cell_type": "code",
   "execution_count": 161,
   "id": "170ed63e-ab47-4c1c-b141-13e7bd27a52c",
   "metadata": {},
   "outputs": [],
   "source": [
    "seq_length = 10   # Sliding window length\n",
    "\n",
    "# Create the Data loader\n",
    "train_dataset = TimeSeriesDataset(X_train_scaled, y_train, seq_length)\n",
    "validation_dataset = TimeSeriesDataset(X_validation_scaled, y_validation, seq_length)\n",
    "test_dataset = TimeSeriesDataset(X_test_scaled, y_test, seq_length)\n",
    "\n",
    "train_loader = DataLoader(train_dataset, batch_size=64, shuffle=True)\n",
    "validation_loader = DataLoader(validation_dataset, batch_size=64, shuffle=False)\n",
    "test_loader = DataLoader(test_dataset, batch_size=64, shuffle=False)"
   ]
  },
  {
   "cell_type": "markdown",
   "id": "a30447d5-68ff-4c82-bec6-4ace2826c050",
   "metadata": {},
   "source": [
    "## Define the LSTM model"
   ]
  },
  {
   "cell_type": "code",
   "execution_count": 162,
   "id": "5360b728-00c5-43bf-8428-6c5d8a4d1413",
   "metadata": {},
   "outputs": [],
   "source": [
    "class LSTMRegressor(nn.Module):\n",
    "    \n",
    "    def __init__(self, input_dim, hidden_dim, num_layers, output_dim, dropout=0.2):\n",
    "        super(LSTMRegressor, self).__init__()\n",
    "        self.hidden_dim = hidden_dim\n",
    "        self.num_layers = num_layers\n",
    "        self.lstm = nn.LSTM(\n",
    "            input_size=input_dim,\n",
    "            hidden_size=hidden_dim,\n",
    "            num_layers=num_layers,\n",
    "            batch_first=True,\n",
    "            dropout=dropout  \n",
    "        )\n",
    "        self.fc = nn.Linear(hidden_dim, output_dim)\n",
    "        self.dropout_fc = nn.Dropout(p=dropout)\n",
    "        \n",
    "    def forward(self, x):\n",
    "        h0 = torch.zeros(self.num_layers, x.size(0), self.hidden_dim).to(x.device)\n",
    "        c0 = torch.zeros(self.num_layers, x.size(0), self.hidden_dim).to(x.device)\n",
    "        out, _ = self.lstm(x, (h0, c0))\n",
    "        out = out[:, -1, :]\n",
    "        out = self.dropout_fc(out)\n",
    "        out = self.fc(out)\n",
    "        return out"
   ]
  },
  {
   "cell_type": "code",
   "execution_count": 163,
   "id": "d64e76dc-b110-4448-8476-b50be4f7bbbc",
   "metadata": {},
   "outputs": [],
   "source": [
    "# Initialize model\n",
    "input_dim = len(key_features)  # Number of features\n",
    "hidden_dim = 32  # Hidden state size\n",
    "output_dim = 1  # Single output (Delta)\n",
    "num_layers = 2  # Number of LSTM layers\n",
    "dropout_rate = 0.2\n",
    "\n",
    "model = LSTMRegressor(input_dim, hidden_dim, num_layers, output_dim)"
   ]
  },
  {
   "cell_type": "markdown",
   "id": "968b81e0-900c-4985-8f8e-e4aa32651c85",
   "metadata": {},
   "source": [
    "## Loss Function"
   ]
  },
  {
   "cell_type": "code",
   "execution_count": 164,
   "id": "d7f27b1b-6656-4dd3-8bbc-37bf66cb6ba2",
   "metadata": {},
   "outputs": [],
   "source": [
    "def rmse_loss(y_true, y_pred):\n",
    "    \n",
    "    mse_loss = nn.functional.mse_loss(y_pred, y_true) \n",
    "    \n",
    "    return torch.sqrt(mse_loss + 1e-8)  "
   ]
  },
  {
   "cell_type": "code",
   "execution_count": 165,
   "id": "fe4b2795-a63c-4107-9e1a-7d947acfce49",
   "metadata": {},
   "outputs": [],
   "source": [
    "def mae_loss(y_true, y_pred):\n",
    "    return torch.mean(torch.abs(y_true - y_pred))\n"
   ]
  },
  {
   "cell_type": "markdown",
   "id": "62fe948b-8ff5-4d73-a17d-3527545d467c",
   "metadata": {},
   "source": [
    "## Model Training"
   ]
  },
  {
   "cell_type": "code",
   "execution_count": 166,
   "id": "8d1f51f7-c47c-4143-9cdc-ee2f67aed54e",
   "metadata": {},
   "outputs": [
    {
     "data": {
      "text/plain": [
       "LSTMRegressor(\n",
       "  (lstm): LSTM(5, 32, num_layers=2, batch_first=True, dropout=0.2)\n",
       "  (fc): Linear(in_features=32, out_features=1, bias=True)\n",
       "  (dropout_fc): Dropout(p=0.2, inplace=False)\n",
       ")"
      ]
     },
     "execution_count": 166,
     "metadata": {},
     "output_type": "execute_result"
    }
   ],
   "source": [
    "# Move the Model to GPU\n",
    "device = torch.device(\"cuda\" if torch.cuda.is_available() else \"cpu\")\n",
    "model.to(device)"
   ]
  },
  {
   "cell_type": "code",
   "execution_count": 167,
   "id": "43b3247c-1e1b-4e6a-a863-5e31d0590561",
   "metadata": {},
   "outputs": [],
   "source": [
    "# Optimizer\n",
    "optimizer = torch.optim.Adam(model.parameters(), lr=0.1, weight_decay=1e-5) \n",
    "scheduler = StepLR(optimizer, step_size=10, gamma=0.1) # epoch % 10 == 0, lr * 0.1"
   ]
  },
  {
   "cell_type": "code",
   "execution_count": 168,
   "id": "2c83a2b6-72f0-44ca-a178-405bea528079",
   "metadata": {},
   "outputs": [
    {
     "name": "stdout",
     "output_type": "stream",
     "text": [
      "Epoch [1/100], Train RMSE: 0.5141| Train MAE: 0.3931| Val RMSE: 1.5732| Val MAE: 1.5726| Current Learning Rate: 0.10000000\n",
      "Epoch [2/100], Train RMSE: 0.3783| Train MAE: 0.2867| Val RMSE: 1.5525| Val MAE: 1.5522| Current Learning Rate: 0.10000000\n",
      "Epoch [3/100], Train RMSE: 0.3544| Train MAE: 0.2689| Val RMSE: 1.3476| Val MAE: 1.3465| Current Learning Rate: 0.10000000\n",
      "Epoch [4/100], Train RMSE: 0.3347| Train MAE: 0.2508| Val RMSE: 1.4313| Val MAE: 1.4306| Current Learning Rate: 0.10000000\n",
      "Epoch [5/100], Train RMSE: 0.3282| Train MAE: 0.2472| Val RMSE: 1.1337| Val MAE: 1.1331| Current Learning Rate: 0.10000000\n",
      "Epoch [6/100], Train RMSE: 0.3155| Train MAE: 0.2372| Val RMSE: 1.3585| Val MAE: 1.3575| Current Learning Rate: 0.10000000\n",
      "Epoch [7/100], Train RMSE: 0.3251| Train MAE: 0.2442| Val RMSE: 1.5102| Val MAE: 1.5094| Current Learning Rate: 0.10000000\n",
      "Epoch [8/100], Train RMSE: 0.3379| Train MAE: 0.2526| Val RMSE: 0.9439| Val MAE: 0.9427| Current Learning Rate: 0.10000000\n",
      "Epoch [9/100], Train RMSE: 0.3325| Train MAE: 0.2498| Val RMSE: 1.0323| Val MAE: 1.0314| Current Learning Rate: 0.10000000\n",
      "Epoch [10/100], Train RMSE: 0.3381| Train MAE: 0.2555| Val RMSE: 1.2299| Val MAE: 1.2295| Current Learning Rate: 0.01000000\n",
      "Epoch [11/100], Train RMSE: 0.2762| Train MAE: 0.2027| Val RMSE: 1.3261| Val MAE: 1.3256| Current Learning Rate: 0.01000000\n",
      "Epoch [12/100], Train RMSE: 0.2664| Train MAE: 0.1956| Val RMSE: 1.2701| Val MAE: 1.2697| Current Learning Rate: 0.01000000\n",
      "Epoch [13/100], Train RMSE: 0.2644| Train MAE: 0.1929| Val RMSE: 1.2258| Val MAE: 1.2253| Current Learning Rate: 0.01000000\n",
      "Epoch [14/100], Train RMSE: 0.2559| Train MAE: 0.1871| Val RMSE: 1.1968| Val MAE: 1.1964| Current Learning Rate: 0.01000000\n",
      "Epoch [15/100], Train RMSE: 0.2456| Train MAE: 0.1800| Val RMSE: 1.2821| Val MAE: 1.2818| Current Learning Rate: 0.01000000\n",
      "Epoch [16/100], Train RMSE: 0.2397| Train MAE: 0.1755| Val RMSE: 1.1926| Val MAE: 1.1921| Current Learning Rate: 0.01000000\n",
      "Epoch [17/100], Train RMSE: 0.2345| Train MAE: 0.1713| Val RMSE: 1.2165| Val MAE: 1.2161| Current Learning Rate: 0.01000000\n",
      "Epoch [18/100], Train RMSE: 0.2331| Train MAE: 0.1704| Val RMSE: 1.1696| Val MAE: 1.1691| Current Learning Rate: 0.01000000\n",
      "Epoch [19/100], Train RMSE: 0.2284| Train MAE: 0.1669| Val RMSE: 1.2633| Val MAE: 1.2629| Current Learning Rate: 0.01000000\n",
      "Epoch [20/100], Train RMSE: 0.2303| Train MAE: 0.1688| Val RMSE: 1.1848| Val MAE: 1.1839| Current Learning Rate: 0.00100000\n",
      "Epoch [21/100], Train RMSE: 0.2173| Train MAE: 0.1577| Val RMSE: 1.0475| Val MAE: 1.0464| Current Learning Rate: 0.00100000\n",
      "Epoch [22/100], Train RMSE: 0.2155| Train MAE: 0.1565| Val RMSE: 1.1360| Val MAE: 1.1353| Current Learning Rate: 0.00100000\n",
      "Epoch [23/100], Train RMSE: 0.2131| Train MAE: 0.1549| Val RMSE: 1.0896| Val MAE: 1.0888| Current Learning Rate: 0.00100000\n",
      "Epoch [24/100], Train RMSE: 0.2124| Train MAE: 0.1542| Val RMSE: 1.0404| Val MAE: 1.0396| Current Learning Rate: 0.00100000\n",
      "Epoch [25/100], Train RMSE: 0.2129| Train MAE: 0.1544| Val RMSE: 1.1055| Val MAE: 1.1048| Current Learning Rate: 0.00100000\n",
      "Epoch [26/100], Train RMSE: 0.2132| Train MAE: 0.1543| Val RMSE: 1.0222| Val MAE: 1.0215| Current Learning Rate: 0.00100000\n",
      "Epoch [27/100], Train RMSE: 0.2107| Train MAE: 0.1532| Val RMSE: 0.9444| Val MAE: 0.9435| Current Learning Rate: 0.00100000\n",
      "Epoch [28/100], Train RMSE: 0.2108| Train MAE: 0.1530| Val RMSE: 1.0307| Val MAE: 1.0300| Current Learning Rate: 0.00100000\n",
      "Epoch [29/100], Train RMSE: 0.2078| Train MAE: 0.1515| Val RMSE: 1.0852| Val MAE: 1.0845| Current Learning Rate: 0.00100000\n",
      "Epoch [30/100], Train RMSE: 0.2108| Train MAE: 0.1530| Val RMSE: 1.1080| Val MAE: 1.1075| Current Learning Rate: 0.00010000\n",
      "Epoch [31/100], Train RMSE: 0.2116| Train MAE: 0.1533| Val RMSE: 1.0135| Val MAE: 1.0128| Current Learning Rate: 0.00010000\n",
      "Epoch [32/100], Train RMSE: 0.2098| Train MAE: 0.1525| Val RMSE: 1.0081| Val MAE: 1.0075| Current Learning Rate: 0.00010000\n",
      "Epoch [33/100], Train RMSE: 0.2076| Train MAE: 0.1507| Val RMSE: 1.0111| Val MAE: 1.0104| Current Learning Rate: 0.00010000\n",
      "Epoch [34/100], Train RMSE: 0.2096| Train MAE: 0.1514| Val RMSE: 1.0173| Val MAE: 1.0166| Current Learning Rate: 0.00010000\n",
      "Epoch [35/100], Train RMSE: 0.2085| Train MAE: 0.1514| Val RMSE: 1.0299| Val MAE: 1.0293| Current Learning Rate: 0.00010000\n",
      "Epoch [36/100], Train RMSE: 0.2089| Train MAE: 0.1510| Val RMSE: 1.0272| Val MAE: 1.0266| Current Learning Rate: 0.00010000\n",
      "Epoch [37/100], Train RMSE: 0.2085| Train MAE: 0.1514| Val RMSE: 1.0198| Val MAE: 1.0192| Current Learning Rate: 0.00010000\n",
      "Epoch [38/100], Train RMSE: 0.2086| Train MAE: 0.1510| Val RMSE: 1.0239| Val MAE: 1.0232| Current Learning Rate: 0.00010000\n",
      "Early stopping triggered\n"
     ]
    }
   ],
   "source": [
    "# Training loop\n",
    "num_epochs = 100\n",
    "best_val_loss = 1000\n",
    "early_stop_counter = 0  \n",
    "patience = 30\n",
    "\n",
    "train_rmse_losses = []\n",
    "train_mae_losses = []\n",
    "val_rmse_losses = []\n",
    "val_mae_losses = []\n",
    "\n",
    "for epoch in range(num_epochs):\n",
    "    # Training\n",
    "    model.train()\n",
    "    train_rmse = 0.0\n",
    "    train_mae = 0.0\n",
    "    for batch_x, batch_y in train_loader:\n",
    "        batch_x = batch_x.to(device)\n",
    "        batch_y = batch_y.to(device)\n",
    "        \n",
    "        optimizer.zero_grad()\n",
    "        outputs = model(batch_x)\n",
    "        loss = rmse_loss(outputs, batch_y)\n",
    "        loss.backward()\n",
    "        optimizer.step()\n",
    "        \n",
    "        train_rmse += loss.item() * batch_x.size(0)\n",
    "        train_mae += mae_loss(outputs, batch_y).item() * batch_x.size(0)\n",
    "    \n",
    "    train_rmse /= len(train_dataset)\n",
    "    train_mae /= len(train_dataset)\n",
    "    train_rmse_losses.append(train_rmse)\n",
    "    train_mae_losses.append(train_mae)\n",
    "    \n",
    "    # Validation\n",
    "    model.eval()\n",
    "    val_rmse = 0.0\n",
    "    val_mae = 0.0\n",
    "    with torch.no_grad():\n",
    "        for batch_x, batch_y in validation_loader:\n",
    "            batch_x = batch_x.to(device)\n",
    "            batch_y = batch_y.to(device)\n",
    "            outputs = model(batch_x)\n",
    "            loss = rmse_loss(outputs, batch_y)\n",
    "            val_rmse += loss.item() * batch_x.size(0)\n",
    "            val_mae += mae_loss(outputs, batch_y).item() * batch_x.size(0)\n",
    "            \n",
    "    val_rmse /= len(validation_dataset)\n",
    "    val_mae /= len(validation_dataset)\n",
    "    val_rmse_losses.append(val_rmse)\n",
    "    val_mae_losses.append(val_mae)\n",
    "\n",
    "    scheduler.step()  \n",
    "    current_lr = optimizer.param_groups[0]['lr']\n",
    "\n",
    "    print(f\"Epoch [{epoch+1}/{num_epochs}], \"\n",
    "          f\"Train RMSE: {train_rmse:.4f}| Train MAE: {train_mae:.4f}| \"\n",
    "          f\"Val RMSE: {val_rmse:.4f}| Val MAE: {val_mae:.4f}| Current Learning Rate: {current_lr:.8f}\")\n",
    "\n",
    "\n",
    "    # Early stopping\n",
    "    if val_rmse < best_val_loss:\n",
    "        best_val_loss = val_rmse\n",
    "        best_val_mae = val_mae\n",
    "        early_stop_counter = 0\n",
    "        best_model_state = model.state_dict()\n",
    "    else:\n",
    "        early_stop_counter += 1\n",
    "        if early_stop_counter >= patience:\n",
    "            print(\"Early stopping triggered\")\n",
    "            break\n"
   ]
  },
  {
   "cell_type": "code",
   "execution_count": 169,
   "id": "558aad13-84e9-4ad1-90ec-15721a53d50f",
   "metadata": {},
   "outputs": [
    {
     "data": {
      "image/png": "[encoded data removed]",
      "text/plain": [
       "<Figure size 1200x800 with 1 Axes>"
      ]
     },
     "metadata": {},
     "output_type": "display_data"
    }
   ],
   "source": [
    "plt.figure(figsize=(12, 8))\n",
    "plt.plot(train_rmse_losses, label=\"Train RMSE\")\n",
    "plt.plot(val_rmse_losses, label=\"Validation RMSE\")\n",
    "plt.plot(train_mae_losses, label=\"Train MAE\", linestyle=\"--\")\n",
    "plt.plot(val_mae_losses, label=\"Validation MAE\", linestyle=\"--\")\n",
    "plt.title(\"Training and Validation Loss Over Epochs\")\n",
    "plt.xlabel(\"Epochs\")\n",
    "plt.ylabel(\"Loss\")\n",
    "plt.legend()\n",
    "plt.grid(True)\n",
    "plt.show()"
   ]
  },
  {
   "cell_type": "markdown",
   "id": "a8b19519-b3d4-4f15-8c95-116489d2b34d",
   "metadata": {},
   "source": [
    "## Evaluation"
   ]
  },
  {
   "cell_type": "code",
   "execution_count": 170,
   "id": "c536ab72-f5a5-40cb-992c-9b95b9b1c972",
   "metadata": {},
   "outputs": [
    {
     "name": "stdout",
     "output_type": "stream",
     "text": [
      "Test Loss (RMSE): 1.6508\n",
      "Test Loss (MAE): 1.6506\n"
     ]
    }
   ],
   "source": [
    "model.load_state_dict(best_model_state)  \n",
    "model.eval()\n",
    "\n",
    "with torch.no_grad():\n",
    "    test_rmse = 0.0\n",
    "    test_mae = 0.0  \n",
    "    \n",
    "    for batch_X, batch_y in test_loader:\n",
    "        test_predictions = model(batch_X)\n",
    "        test_rmse += rmse_loss(test_predictions, batch_y.view(-1, 1)).item()\n",
    "        test_mae += mae_loss(test_predictions, batch_y.view(-1, 1)).item()  \n",
    "\n",
    "    test_rmse /= len(test_loader)\n",
    "    test_mae /= len(test_loader)\n",
    "\n",
    "    print(f\"Test Loss (RMSE): {test_rmse:.4f}\")\n",
    "    print(f\"Test Loss (MAE): {test_mae:.4f}\")\n"
   ]
  }
 ],
 "metadata": {
  "kernelspec": {
   "display_name": "Python (PINN)",
   "language": "python",
   "name": "pinn"
  },
  "language_info": {
   "codemirror_mode": {
    "name": "ipython",
    "version": 3
   },
   "file_extension": ".py",
   "mimetype": "text/x-python",
   "name": "python",
   "nbconvert_exporter": "python",
   "pygments_lexer": "ipython3",
   "version": "3.10.16"
  }
 },
 "nbformat": 4,
 "nbformat_minor": 5
}
